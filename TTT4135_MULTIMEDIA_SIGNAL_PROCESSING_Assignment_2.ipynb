{
  "nbformat": 4,
  "nbformat_minor": 0,
  "metadata": {
    "colab": {
      "name": "TTT4135_MULTIMEDIA_SIGNAL_PROCESSING_Assignment_2",
      "provenance": [],
      "authorship_tag": "ABX9TyNtQ8jttfS5kgzK3DbbaGoM",
      "include_colab_link": true
    },
    "kernelspec": {
      "name": "python3",
      "display_name": "Python 3"
    },
    "language_info": {
      "name": "python"
    }
  },
  "cells": [
    {
      "cell_type": "markdown",
      "metadata": {
        "id": "view-in-github",
        "colab_type": "text"
      },
      "source": [
        "<a href=\"https://colab.research.google.com/github/Eeaeau/TTT4135-Multimedia-Signal-Processing/blob/main/TTT4135_MULTIMEDIA_SIGNAL_PROCESSING_Assignment_2.ipynb\" target=\"_parent\"><img src=\"https://colab.research.google.com/assets/colab-badge.svg\" alt=\"Open In Colab\"/></a>"
      ]
    },
    {
      "cell_type": "code",
      "execution_count": null,
      "metadata": {
        "id": "vVMpFwtWTOXw"
      },
      "outputs": [],
      "source": [
        ""
      ]
    }
  ]
}