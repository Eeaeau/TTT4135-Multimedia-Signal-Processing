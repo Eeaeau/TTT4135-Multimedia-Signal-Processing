{
  "nbformat": 4,
  "nbformat_minor": 0,
  "metadata": {
    "colab": {
      "name": "TTT4135_MULTIMEDIA_SIGNAL_PROCESSING_Assignment_2",
      "provenance": [],
      "collapsed_sections": [],
      "toc_visible": true,
      "authorship_tag": "ABX9TyNJpmUaX9mxR6Atr8kyiZwV",
      "include_colab_link": true
    },
    "kernelspec": {
      "name": "python3",
      "display_name": "Python 3"
    },
    "language_info": {
      "name": "python"
    }
  },
  "cells": [
    {
      "cell_type": "markdown",
      "metadata": {
        "id": "view-in-github",
        "colab_type": "text"
      },
      "source": [
        "<a href=\"https://colab.research.google.com/github/Eeaeau/TTT4135-Multimedia-Signal-Processing/blob/main/TTT4135_MULTIMEDIA_SIGNAL_PROCESSING_Assignment_2.ipynb\" target=\"_parent\"><img src=\"https://colab.research.google.com/assets/colab-badge.svg\" alt=\"Open In Colab\"/></a>"
      ]
    },
    {
      "cell_type": "markdown",
      "source": [
        "# 1 Temporal prediction"
      ],
      "metadata": {
        "id": "WR1F2f6JT3qX"
      }
    },
    {
      "cell_type": "code",
      "execution_count": null,
      "metadata": {
        "id": "vVMpFwtWTOXw"
      },
      "outputs": [],
      "source": [
        ""
      ]
    },
    {
      "cell_type": "markdown",
      "source": [
        "# 2 Decomposition/Transform"
      ],
      "metadata": {
        "id": "6dmga7HOT9HM"
      }
    },
    {
      "cell_type": "markdown",
      "source": [
        "# 3 Video coding"
      ],
      "metadata": {
        "id": "TjuPjpqJUFg0"
      }
    },
    {
      "cell_type": "code",
      "source": [
        "\n"
      ],
      "metadata": {
        "id": "ghHMCsx2UAnw"
      },
      "execution_count": null,
      "outputs": []
    },
    {
      "cell_type": "markdown",
      "source": [
        "# 4 Motion estimation"
      ],
      "metadata": {
        "id": "PbAgmcppUDZA"
      }
    },
    {
      "cell_type": "code",
      "source": [
        ""
      ],
      "metadata": {
        "id": "QEUs8BUAUDFu"
      },
      "execution_count": null,
      "outputs": []
    }
  ]
}