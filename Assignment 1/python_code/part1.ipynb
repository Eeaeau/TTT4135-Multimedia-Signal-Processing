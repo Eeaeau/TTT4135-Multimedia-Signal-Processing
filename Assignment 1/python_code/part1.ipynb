{
 "cells": [
  {
   "cell_type": "markdown",
   "metadata": {},
   "source": [
    "Importing necesarry libs"
   ]
  },
  {
   "cell_type": "code",
   "execution_count": 5,
   "metadata": {},
   "outputs": [
    {
     "name": "stdout",
     "output_type": "stream",
     "text": [
      "done\n"
     ]
    }
   ],
   "source": [
    "import numpy as np\n",
    "import scipy.signal as sig\n",
    "from scipy.fftpack import dct\n",
    "import matplotlib.pyplot as plt\n",
    "from scipy.fft import dctn, idctn\n",
    "print('done')"
   ]
  },
  {
   "cell_type": "markdown",
   "metadata": {},
   "source": [
    "Defining the data."
   ]
  },
  {
   "cell_type": "code",
   "execution_count": 11,
   "metadata": {},
   "outputs": [],
   "source": [
    "table1 = np.array([\n",
    "    [124,121,126,124,127,143,150,156],\n",
    "    [125,121,124,124,127,142,148,159],\n",
    "    [122,120,123,125,128,143,152,158],\n",
    "    [120,119,122,125,129,142,152,155],\n",
    "    [122,119,121,126,130,140,152,158],\n",
    "    [119,120,121,125,128,139,152,158],\n",
    "    [117,120,120,124,127,139,150,157],\n",
    "    [118,118,120,124,125,139,151,156]\n",
    "    ])\n",
    "\n",
    "table2 = np.array([\n",
    "        [16,12,14,14,18,24,49,72],\n",
    "        [11,12,13,17,22,35,64,92],\n",
    "        [10,14,16,22,37,55,78,95],\n",
    "        [16,19,24,29,56,64,87,98],\n",
    "        [24,26,40,51,68,81,103,112],\n",
    "        [40,58,57,87,109,104,121,100],\n",
    "        [51,60,69,80,103,113,120,103],\n",
    "        [61,55,56,62,77,92,101,99]\n",
    "])\n",
    "\n"
   ]
  },
  {
   "cell_type": "code",
   "execution_count": 20,
   "metadata": {},
   "outputs": [
    {
     "data": {
      "text/plain": [
       "<matplotlib.image.AxesImage at 0x1fd5a741448>"
      ]
     },
     "execution_count": 20,
     "metadata": {},
     "output_type": "execute_result"
    },
    {
     "data": {
      "image/png": "[encoded data removed]",
      "text/plain": [
       "<Figure size 432x288 with 1 Axes>"
      ]
     },
     "metadata": {
      "needs_background": "light"
     },
     "output_type": "display_data"
    }
   ],
   "source": [
    "plt.imshow(table1, cmap='plasma')\n"
   ]
  },
  {
   "cell_type": "code",
   "execution_count": 21,
   "metadata": {},
   "outputs": [
    {
     "data": {
      "text/plain": [
       "<matplotlib.image.AxesImage at 0x1fd5a79f148>"
      ]
     },
     "execution_count": 21,
     "metadata": {},
     "output_type": "execute_result"
    },
    {
     "data": {
      "image/png": "[encoded data removed]",
      "text/plain": [
       "<Figure size 432x288 with 1 Axes>"
      ]
     },
     "metadata": {
      "needs_background": "light"
     },
     "output_type": "display_data"
    }
   ],
   "source": [
    "plt.imshow(table2, cmap='plasma')"
   ]
  },
  {
   "cell_type": "markdown",
   "metadata": {},
   "source": [
    "Task 1a, preforming a 2D discret cosine transform."
   ]
  },
  {
   "cell_type": "code",
   "execution_count": 12,
   "metadata": {},
   "outputs": [
    {
     "name": "stdout",
     "output_type": "stream",
     "text": [
      "[[ 3.40440000e+04 -2.31792547e+03  8.54651492e+02 -1.28388879e+02\n",
      "  -7.63675324e+01  1.35525393e+02  8.99045423e+01 -7.76832019e+01]\n",
      " [ 1.48555961e+02  7.30798638e+01  2.10305174e+01  3.58743511e+01\n",
      "  -1.19214713e+01 -2.23916905e+00  8.84476317e+01  8.31702534e+00]\n",
      " [-5.07317849e+01  3.62196141e+01  2.83847763e+01 -2.12161190e+01\n",
      "  -2.81103346e+01 -7.35138204e+00  3.83847763e+01 -1.71530465e+01]\n",
      " [ 2.76126420e+01  1.79297775e+01  4.13327513e+00 -1.30113787e+01\n",
      "   1.24219384e+01 -1.24608850e+01 -8.94036077e+00  1.39371253e+01]\n",
      " [-8.48528137e+00  5.73037909e+00 -2.41521840e+01  2.26766009e+01\n",
      "  -1.00000000e+01  3.19896772e+01 -8.19759813e-01  1.54141195e+01]\n",
      " [-2.46049015e+01 -1.01381355e+01 -3.54908076e+01  3.53911501e+00\n",
      "  -4.25547868e+01 -4.24345525e+00 -1.35610998e+01  1.44449617e+00]\n",
      " [ 1.79523259e+01 -1.68484358e+01 -1.61522369e+00 -2.22893296e+00\n",
      "  -2.08280842e+01  2.34295628e+01 -8.38477631e+00  5.28807049e+00]\n",
      " [ 2.56762014e+01 -7.68297466e+00  3.72610495e+00  2.72445042e+00\n",
      "   1.21927886e+01  7.53612361e-02 -2.08208010e+00  1.74970175e-01]]\n"
     ]
    }
   ],
   "source": [
    "table1_dct = dct(dct(table1,axis=1),axis=0)\n",
    "print(table1_dct)"
   ]
  },
  {
   "cell_type": "code",
   "execution_count": 13,
   "metadata": {},
   "outputs": [
    {
     "name": "stdout",
     "output_type": "stream",
     "text": [
      "[[ 3.40440000e+04 -2.31792547e+03  8.54651492e+02 -1.28388879e+02\n",
      "  -7.63675324e+01  1.35525393e+02  8.99045423e+01 -7.76832019e+01]\n",
      " [ 1.48555961e+02  7.30798638e+01  2.10305174e+01  3.58743511e+01\n",
      "  -1.19214713e+01 -2.23916905e+00  8.84476317e+01  8.31702534e+00]\n",
      " [-5.07317849e+01  3.62196141e+01  2.83847763e+01 -2.12161190e+01\n",
      "  -2.81103346e+01 -7.35138204e+00  3.83847763e+01 -1.71530465e+01]\n",
      " [ 2.76126420e+01  1.79297775e+01  4.13327513e+00 -1.30113787e+01\n",
      "   1.24219384e+01 -1.24608850e+01 -8.94036077e+00  1.39371253e+01]\n",
      " [-8.48528137e+00  5.73037909e+00 -2.41521840e+01  2.26766009e+01\n",
      "  -1.00000000e+01  3.19896772e+01 -8.19759813e-01  1.54141195e+01]\n",
      " [-2.46049015e+01 -1.01381355e+01 -3.54908076e+01  3.53911501e+00\n",
      "  -4.25547868e+01 -4.24345525e+00 -1.35610998e+01  1.44449617e+00]\n",
      " [ 1.79523259e+01 -1.68484358e+01 -1.61522369e+00 -2.22893296e+00\n",
      "  -2.08280842e+01  2.34295628e+01 -8.38477631e+00  5.28807049e+00]\n",
      " [ 2.56762014e+01 -7.68297466e+00  3.72610495e+00  2.72445042e+00\n",
      "   1.21927886e+01  7.53612361e-02 -2.08208010e+00  1.74970175e-01]]\n"
     ]
    }
   ],
   "source": [
    "table1_dct2 = dctn(table1)\n",
    "print(table1_dct2)"
   ]
  },
  {
   "cell_type": "code",
   "execution_count": 14,
   "metadata": {},
   "outputs": [
    {
     "data": {
      "text/plain": [
       "<matplotlib.image.AxesImage at 0x1fd5a561f08>"
      ]
     },
     "execution_count": 14,
     "metadata": {},
     "output_type": "execute_result"
    },
    {
     "data": {
      "image/png": "[encoded data removed]",
      "text/plain": [
       "<Figure size 432x288 with 1 Axes>"
      ]
     },
     "metadata": {
      "needs_background": "light"
     },
     "output_type": "display_data"
    }
   ],
   "source": [
    "plt.imshow(table1_dct,cmap='plasma')"
   ]
  },
  {
   "cell_type": "markdown",
   "metadata": {},
   "source": [
    "assuming that the dct is correct (even do it doesnt match up with matlab), and that l_ij is the table 1. Note that the image is somewhat similar to matlab solution."
   ]
  },
  {
   "cell_type": "code",
   "execution_count": 17,
   "metadata": {},
   "outputs": [
    {
     "name": "stdout",
     "output_type": "stream",
     "text": [
      "[[ 8. 10.  9.  9.  7.  6.  3.  2.]\n",
      " [11. 10. 10.  7.  6.  4.  2.  2.]\n",
      " [12.  9.  8.  6.  3.  3.  2.  2.]\n",
      " [ 8.  6.  5.  4.  2.  2.  2.  2.]\n",
      " [ 5.  5.  3.  2.  2.  2.  1.  1.]\n",
      " [ 3.  2.  2.  1.  1.  1.  1.  2.]\n",
      " [ 2.  2.  2.  2.  1.  1.  1.  2.]\n",
      " [ 2.  2.  2.  2.  2.  2.  1.  2.]]\n",
      "[[ 2.128e+03 -1.930e+02  6.100e+01 -9.000e+00 -4.000e+00  6.000e+00\n",
      "   2.000e+00 -1.000e+00]\n",
      " [ 1.400e+01  6.000e+00  2.000e+00  2.000e+00 -1.000e+00  0.000e+00\n",
      "   1.000e+00  0.000e+00]\n",
      " [-5.000e+00  3.000e+00  2.000e+00 -1.000e+00 -1.000e+00  0.000e+00\n",
      "   0.000e+00  0.000e+00]\n",
      " [ 2.000e+00  1.000e+00  0.000e+00  0.000e+00  0.000e+00  0.000e+00\n",
      "   0.000e+00  0.000e+00]\n",
      " [ 0.000e+00  0.000e+00 -1.000e+00  0.000e+00  0.000e+00  0.000e+00\n",
      "   0.000e+00  0.000e+00]\n",
      " [-1.000e+00  0.000e+00 -1.000e+00  0.000e+00  0.000e+00  0.000e+00\n",
      "   0.000e+00  0.000e+00]\n",
      " [ 0.000e+00  0.000e+00  0.000e+00  0.000e+00  0.000e+00  0.000e+00\n",
      "   0.000e+00  0.000e+00]\n",
      " [ 0.000e+00  0.000e+00  0.000e+00  0.000e+00  0.000e+00  0.000e+00\n",
      "   0.000e+00  0.000e+00]]\n"
     ]
    }
   ],
   "source": [
    "k_ij = np.floor((table1/table2) + 0.5)\n",
    "print(k_ij)\n",
    "k_ij_v2 = np.floor((table1_dct/table2) + 0.5) #if l_ij is the dct\n",
    "print(k_ij_v2)"
   ]
  },
  {
   "cell_type": "code",
   "execution_count": 24,
   "metadata": {},
   "outputs": [
    {
     "name": "stdout",
     "output_type": "stream",
     "text": [
      "[[ 1.75786761e+01 -1.57086388e+01  8.74064483e+00 -5.44586817e+00\n",
      "   3.64642477e+00 -2.24311148e+00  5.82318615e-01 -1.54090594e-01]\n",
      " [-1.55198908e+01  9.41906535e+00 -2.41397549e+00  1.01147698e+00\n",
      "  -8.57437756e-01  5.23860321e-01  3.37696859e-01  3.93258131e-02]\n",
      " [ 6.64747093e+00 -2.34308445e+00  1.17983634e+00 -4.93348179e-01\n",
      "   3.35886906e-01 -6.26719701e-02  9.33033022e-02 -1.53491228e-01]\n",
      " [-2.47622559e+00  1.78739226e+00 -1.69283688e+00  2.91316119e-01\n",
      "  -1.37950330e-01  4.40135307e-01 -4.46517904e-01 -8.38964510e-02]\n",
      " [ 5.73898491e-01 -2.39274541e-01  1.05200052e+00 -5.07865883e-01\n",
      "   3.41090077e-01 -2.38989992e-01  5.61404870e-01  3.03183971e-01]\n",
      " [-8.86963109e-01  7.63311022e-01 -8.85247940e-01  6.24032171e-01\n",
      "  -4.21688897e-01  6.19617391e-03 -3.11592021e-01  1.98108337e-01]\n",
      " [ 9.98536622e-01 -1.24611906e-01 -1.60776114e-01  3.88423516e-01\n",
      "   1.67484922e-01  1.43147605e-01 -3.76767680e-01 -1.08256323e-01]\n",
      " [-4.65258236e-01  1.37467088e-01 -2.78680394e-02 -5.91695869e-02\n",
      "  -2.52541610e-01  3.77326820e-02  2.88471557e-01  6.05875374e-02]]\n"
     ]
    },
    {
     "data": {
      "text/plain": [
       "<matplotlib.image.AxesImage at 0x1fd5a957308>"
      ]
     },
     "execution_count": 24,
     "metadata": {},
     "output_type": "execute_result"
    },
    {
     "data": {
      "image/png": "[encoded data removed]",
      "text/plain": [
       "<Figure size 432x288 with 1 Axes>"
      ]
     },
     "metadata": {
      "needs_background": "light"
     },
     "output_type": "display_data"
    }
   ],
   "source": [
    "inverse_dct_table1 = idctn(table2) #this is wrong, need to dequantize first\n",
    "print(inverse_dct_table1)\n",
    "plt.imshow(inverse_dct_table1, cmap='plasma')"
   ]
  }
 ],
 "metadata": {
  "kernelspec": {
   "display_name": "multi",
   "language": "python",
   "name": "multi"
  },
  "language_info": {
   "codemirror_mode": {
    "name": "ipython",
    "version": 3
   },
   "file_extension": ".py",
   "mimetype": "text/x-python",
   "name": "python",
   "nbconvert_exporter": "python",
   "pygments_lexer": "ipython3",
   "version": "3.7.4"
  }
 },
 "nbformat": 4,
 "nbformat_minor": 2
}
